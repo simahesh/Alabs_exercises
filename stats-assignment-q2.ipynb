{
 "cells": [
  {
   "cell_type": "code",
   "execution_count": 32,
   "metadata": {},
   "outputs": [
    {
     "data": {
      "text/plain": [
       "Ttest_indResult(statistic=-2.260422726464996, pvalue=0.024226348191648994)"
      ]
     },
     "execution_count": 32,
     "metadata": {},
     "output_type": "execute_result"
    }
   ],
   "source": [
    "import pandas as pd\n",
    "import numpy as np\n",
    "from scipy import stats\n",
    "\n",
    "data=pd.read_csv(r'C:\\siddharth\\MCL\\analytix\\7. Basic Stats - Case Study-1\\creditpromo.csv')\n",
    "a=data.dollars[data['insert'] == 'Standard']\n",
    "b=data.dollars[data['insert'] != 'Standard']\n",
    "\n",
    "stats.ttest_ind(a,b,equal_var=False)"
   ]
  },
  {
   "cell_type": "markdown",
   "metadata": {},
   "source": [
    "H0:  mean1=mean2\n",
    "H1:  mean1 != mean2\n",
    "test: 2 sampled unpaired ttest\n",
    "Ttest_indResult(statistic=-2.260422726464996, pvalue=0.024226348191648994)\n",
    "pvalue<significant value(.05) >> reject H0\n",
    "stat: -ve >> left tailed test >> mean1 > mean2\n",
    "promo failed"
   ]
  },
  {
   "cell_type": "code",
   "execution_count": null,
   "metadata": {},
   "outputs": [],
   "source": []
  }
 ],
 "metadata": {
  "kernelspec": {
   "display_name": "Python 3",
   "language": "python",
   "name": "python3"
  },
  "language_info": {
   "codemirror_mode": {
    "name": "ipython",
    "version": 3
   },
   "file_extension": ".py",
   "mimetype": "text/x-python",
   "name": "python",
   "nbconvert_exporter": "python",
   "pygments_lexer": "ipython3",
   "version": "3.7.0"
  }
 },
 "nbformat": 4,
 "nbformat_minor": 2
}
