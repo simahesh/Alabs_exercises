{
 "cells": [
  {
   "cell_type": "markdown",
   "metadata": {},
   "source": [
    "3. An experiment is conducted to study the hybrid seed production of bottle gourd under open field conditions. The main aim of the investigation is to compare natural pollination and hand pollination. The data are collected on 10 randomly selected plants from each of natural pollination and hand pollination. The data are collected on fruit weight (kg), seed yield/plant (g) and seedling length (cm)."
   ]
  },
  {
   "cell_type": "code",
   "execution_count": 2,
   "metadata": {},
   "outputs": [],
   "source": [
    "import pandas as pd\n",
    "import numpy as np\n",
    "from scipy import stats\n",
    "\n",
    "data=pd.read_csv(r'C:\\siddharth\\MCL\\analytix\\7. Basic Stats - Case Study-1\\pollination.csv')\n",
    "\n",
    "data.head()"
   ]
  },
  {
   "cell_type": "markdown",
   "metadata": {},
   "source": [
    "a. Is the overall population of Seed yield/plant (g) equals to 200?\n",
    "H0: m1=200\n",
    "H1: m1 != 200\n",
    "test: single sample ttset\n"
   ]
  },
  {
   "cell_type": "code",
   "execution_count": 10,
   "metadata": {},
   "outputs": [
    {
     "data": {
      "text/plain": [
       "Ttest_1sampResult(statistic=-2.3009121248548645, pvalue=0.032891040921283025)"
      ]
     },
     "execution_count": 10,
     "metadata": {},
     "output_type": "execute_result"
    }
   ],
   "source": [
    "stats.ttest_1samp(data['Seed_Yield_Plant'],200)"
   ]
  },
  {
   "cell_type": "markdown",
   "metadata": {},
   "source": [
    "pvalue<significant value\n",
    ">> H0 reject\n",
    ">> H1 holds"
   ]
  },
  {
   "cell_type": "markdown",
   "metadata": {},
   "source": [
    "b. Test whether the natural pollination and hand pollination under open field conditions are equally effective or are significantly different.\n",
    "Fruit_Wt \n",
    "H0: mh=mn\n",
    "H1: mh!=mn\n",
    "test: 2 sample unpaired ttest_ind\n",
    "\n",
    "Seed_Yield_Plant \t\n",
    "H0: mh=mn\n",
    "H1: mh!=mn\n",
    "test: 2 sample unpaired ttest_ind\n",
    "\n",
    "seedlinG_length\n",
    "H0: mh=mn\n",
    "H1: mh!=mn\n",
    "test: 2 sample unpaired ttest_ind"
   ]
  },
  {
   "cell_type": "code",
   "execution_count": 19,
   "metadata": {},
   "outputs": [],
   "source": [
    "hdata=data[data['Group']=='Hand']\n",
    "ndata=data[data['Group']!='Hand']"
   ]
  },
  {
   "cell_type": "code",
   "execution_count": 22,
   "metadata": {},
   "outputs": [
    {
     "data": {
      "text/plain": [
       "Ttest_indResult(statistic=17.669989614440286, pvalue=4.306871213074868e-09)"
      ]
     },
     "execution_count": 22,
     "metadata": {},
     "output_type": "execute_result"
    }
   ],
   "source": [
    "#FW\n",
    "stats.ttest_ind(hdata['Fruit_Wt'],ndata['Fruit_Wt'],equal_var=False)"
   ]
  },
  {
   "cell_type": "markdown",
   "metadata": {},
   "source": [
    "pvalue<significant_value :H0 rejects\n",
    "stat is +ve : right tailed test mh<mn"
   ]
  },
  {
   "cell_type": "code",
   "execution_count": 23,
   "metadata": {},
   "outputs": [
    {
     "data": {
      "text/plain": [
       "Ttest_indResult(statistic=13.958260515902547, pvalue=5.136161282685624e-11)"
      ]
     },
     "execution_count": 23,
     "metadata": {},
     "output_type": "execute_result"
    }
   ],
   "source": [
    "#Seed_Yield_Plant\n",
    "stats.ttest_ind(hdata['Seed_Yield_Plant'],ndata['Seed_Yield_Plant'],equal_var=False)"
   ]
  },
  {
   "cell_type": "markdown",
   "metadata": {},
   "source": [
    "pvalue<significant_value :H0 rejects\n",
    "stat is +ve : right tailed test mh<mn"
   ]
  },
  {
   "cell_type": "code",
   "execution_count": 24,
   "metadata": {},
   "outputs": [
    {
     "data": {
      "text/plain": [
       "Ttest_indResult(statistic=2.542229999657055, pvalue=0.021430608378161634)"
      ]
     },
     "execution_count": 24,
     "metadata": {},
     "output_type": "execute_result"
    }
   ],
   "source": [
    "#Seedling_length\n",
    "stats.ttest_ind(hdata['Seedling_length'],ndata['Seedling_length'],equal_var=False)"
   ]
  },
  {
   "cell_type": "markdown",
   "metadata": {},
   "source": [
    "pvalue<significant_value :H0 rejects\n",
    "stat is +ve : right tailed test mh<mn"
   ]
  },
  {
   "cell_type": "markdown",
   "metadata": {},
   "source": [
    "so hand pollination is less effective to natural pollination"
   ]
  }
 ],
 "metadata": {
  "kernelspec": {
   "display_name": "Python 3",
   "language": "python",
   "name": "python3"
  },
  "language_info": {
   "codemirror_mode": {
    "name": "ipython",
    "version": 3
   },
   "file_extension": ".py",
   "mimetype": "text/x-python",
   "name": "python",
   "nbconvert_exporter": "python",
   "pygments_lexer": "ipython3",
   "version": "3.7.0"
  }
 },
 "nbformat": 4,
 "nbformat_minor": 2
}
