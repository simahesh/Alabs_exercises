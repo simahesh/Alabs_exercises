{
 "cells": [
  {
   "cell_type": "markdown",
   "metadata": {},
   "source": [
    "5. A survey was conducted among 2800 customers on several demographic characteristics. Working status, sex, age, age-group, race, happiness, no. of child, marital status, educational qualifications, income group etc. had been captured for that purpose. (Data set: sample_survey.csv).\n",
    "a. Is there any relationship in between labour force status with marital status?\n",
    "b. Do you think educational qualification is somehow controlling the marital status?\n",
    "c. Is happiness is driven by earnings or marital status?"
   ]
  },
  {
   "cell_type": "code",
   "execution_count": 1,
   "metadata": {},
   "outputs": [],
   "source": [
    "import pandas as pd\n",
    "from scipy import stats\n",
    "data=pd.read_csv(r'C:\\siddharth\\MCL\\analytix\\7. Basic Stats - Case Study-1\\sample_survey.csv')"
   ]
  },
  {
   "cell_type": "code",
   "execution_count": 19,
   "metadata": {},
   "outputs": [],
   "source": [
    "labor=data['wrkstat']\n",
    "marital=data['marital']\n",
    "education=data['degree']\n",
    "happiness=data['happy']\n",
    "earning=data['income']"
   ]
  },
  {
   "cell_type": "code",
   "execution_count": 20,
   "metadata": {},
   "outputs": [],
   "source": [
    "p1=pd.crosstab(labor,marital)\n",
    "p2=pd.crosstab(education,marital)\n",
    "p3=pd.crosstab(happiness,marital)\n",
    "p4=pd.crosstab(happiness,earning)"
   ]
  },
  {
   "cell_type": "code",
   "execution_count": 17,
   "metadata": {},
   "outputs": [
    {
     "data": {
      "text/plain": [
       "(729.2421426572284,\n",
       " 1.4875268409067568e-135,\n",
       " 28,\n",
       " array([[ 51.69187279, 155.8869258 ,  76.84240283,  10.77879859,\n",
       "          32.8       ],\n",
       "        [  8.51024735,  25.66431095,  12.65088339,   1.7745583 ,\n",
       "           5.4       ],\n",
       "        [ 62.09328622, 187.25441696,  92.30459364,  12.94770318,\n",
       "          39.4       ],\n",
       "        [ 12.45017668,  37.5459364 ,  18.50777385,   2.59611307,\n",
       "           7.9       ],\n",
       "        [  7.24946996,  21.86219081,  10.77667845,   1.51166078,\n",
       "           4.6       ],\n",
       "        [  9.14063604,  27.56537102,  13.58798587,   1.90600707,\n",
       "           5.8       ],\n",
       "        [246.95477032, 744.74028269, 367.10989399,  51.495053  ,\n",
       "         156.7       ],\n",
       "        [ 47.90954064, 144.48056537,  71.21978799,   9.99010601,\n",
       "          30.4       ]]))"
      ]
     },
     "execution_count": 17,
     "metadata": {},
     "output_type": "execute_result"
    }
   ],
   "source": [
    "stats.chi2_contingency(observed=p1)"
   ]
  },
  {
   "cell_type": "code",
   "execution_count": 21,
   "metadata": {},
   "outputs": [
    {
     "data": {
      "text/plain": [
       "(122.68449020508541,\n",
       " 1.6707923432360119e-18,\n",
       " 16,\n",
       " array([[ 75.06345268, 227.39312301, 111.83268345,  15.75824176,\n",
       "          47.95249911],\n",
       "        [ 32.19248493,  97.52215526,  47.9617157 ,   6.75824176,\n",
       "          20.56540234],\n",
       "        [235.55476781, 713.57674583, 350.9393832 ,  49.45054945,\n",
       "         150.4785537 ],\n",
       "        [ 32.66359447,  98.94930876,  48.66359447,   6.85714286,\n",
       "          20.86635945],\n",
       "        [ 67.52570011, 204.55866714, 100.60262318,  14.17582418,\n",
       "          43.1371854 ]]))"
      ]
     },
     "execution_count": 21,
     "metadata": {},
     "output_type": "execute_result"
    }
   ],
   "source": [
    "stats.chi2_contingency(observed=p2)"
   ]
  },
  {
   "cell_type": "code",
   "execution_count": null,
   "metadata": {},
   "outputs": [],
   "source": [
    "pvalue < significant value\n",
    ">> marital status is not driven by education"
   ]
  },
  {
   "cell_type": "code",
   "execution_count": 22,
   "metadata": {},
   "outputs": [
    {
     "data": {
      "text/plain": [
       "(260.6894389418282,\n",
       " 9.3147261197964e-52,\n",
       " 8,\n",
       " array([[ 53.6969697 , 162.06060606,  79.27272727,  11.15151515,\n",
       "          33.81818182],\n",
       "        [248.58538324, 750.24527629, 366.98609626,  51.62495544,\n",
       "         156.55828877],\n",
       "        [140.71764706, 424.69411765, 207.74117647,  29.22352941,\n",
       "          88.62352941]]))"
      ]
     },
     "execution_count": 22,
     "metadata": {},
     "output_type": "execute_result"
    }
   ],
   "source": [
    "stats.chi2_contingency(observed=p3)"
   ]
  },
  {
   "cell_type": "code",
   "execution_count": 23,
   "metadata": {},
   "outputs": [
    {
     "data": {
      "text/plain": [
       "(178.9505306121643,\n",
       " 1.4107677273473057e-26,\n",
       " 22,\n",
       " array([[  3.89520355,  23.12777106,  21.66706973,  29.82265216,\n",
       "         191.35187424,   2.92140266,   3.89520355,   4.26037888,\n",
       "           4.01692866,   5.72108021,   7.06005643,   4.26037888],\n",
       "        [ 18.16041919, 107.82748892, 101.01733172, 139.04070939,\n",
       "         892.1305925 ,  13.62031439,  18.16041919,  19.86295848,\n",
       "          18.72793229,  26.67311568,  32.91575977,  19.86295848],\n",
       "        [  9.94437727,  59.04474002,  55.31559855,  76.13663845,\n",
       "         488.51753325,   7.45828295,   9.94437727,  10.87666264,\n",
       "          10.25513906,  14.60580411,  18.0241838 ,  10.87666264]]))"
      ]
     },
     "execution_count": 23,
     "metadata": {},
     "output_type": "execute_result"
    }
   ],
   "source": [
    "stats.chi2_contingency(observed=p4)"
   ]
  },
  {
   "cell_type": "markdown",
   "metadata": {},
   "source": [
    "p1=pd.crosstab(labor,marital)\n",
    "p2=pd.crosstab(education,marital)\n",
    "p3=pd.crosstab(happiness,marital)\n",
    "p4=pd.crosstab(happiness,earning)\n",
    "\n",
    "> for all pvalue < significant value\n",
    "> so all are independent and not controlling anything."
   ]
  }
 ],
 "metadata": {
  "kernelspec": {
   "display_name": "Python 3",
   "language": "python",
   "name": "python3"
  },
  "language_info": {
   "codemirror_mode": {
    "name": "ipython",
    "version": 3
   },
   "file_extension": ".py",
   "mimetype": "text/x-python",
   "name": "python",
   "nbconvert_exporter": "python",
   "pygments_lexer": "ipython3",
   "version": "3.7.0"
  }
 },
 "nbformat": 4,
 "nbformat_minor": 2
}
